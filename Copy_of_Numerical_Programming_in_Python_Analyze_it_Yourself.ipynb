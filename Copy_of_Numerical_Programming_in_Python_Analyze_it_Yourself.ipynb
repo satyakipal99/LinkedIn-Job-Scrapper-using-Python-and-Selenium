{
  "nbformat": 4,
  "nbformat_minor": 0,
  "metadata": {
    "colab": {
      "provenance": [],
      "include_colab_link": true
    },
    "kernelspec": {
      "name": "python3",
      "display_name": "Python 3"
    },
    "language_info": {
      "name": "python"
    }
  },
  "cells": [
    {
      "cell_type": "markdown",
      "metadata": {
        "id": "view-in-github",
        "colab_type": "text"
      },
      "source": [
        "<a href=\"https://colab.research.google.com/github/satyakipal99/LinkedIn-Job-Scrapper-using-Python-and-Selenium/blob/main/Copy_of_Numerical_Programming_in_Python_Analyze_it_Yourself.ipynb\" target=\"_parent\"><img src=\"https://colab.research.google.com/assets/colab-badge.svg\" alt=\"Open In Colab\"/></a>"
      ]
    },
    {
      "cell_type": "markdown",
      "source": [
        "## **Problem Statement: Navigating the Data Science Job Landscape**\n",
        "\n",
        "🚀 Unleash your creativity in crafting a solution that taps into the heartbeat of the data science job market! Envision an ingenious project that seamlessly wields cutting-edge web scraping techniques and illuminating data analysis.\n",
        "\n",
        "🔍 Your mission? To engineer a tool that effortlessly gathers job listings from a multitude of online sources, extracting pivotal nuggets such as job descriptions, qualifications, locations, and salaries.\n",
        "\n",
        "🧩 However, the true puzzle lies in deciphering this trove of data. Can your solution discern patterns that spotlight the most coveted skills? Are there threads connecting job types to compensation packages? How might it predict shifts in industry demand?\n",
        "\n",
        "🎯 The core objectives of this challenge are as follows:\n",
        "\n",
        "1. Web Scraping Mastery: Forge an adaptable and potent web scraping mechanism. Your creation should adeptly harvest data science job postings from a diverse array of online platforms. Be ready to navigate evolving website structures and process hefty data loads.\n",
        "\n",
        "2. Data Symphony: Skillfully distill vital insights from the harvested job listings. Extract and cleanse critical information like job titles, company names, descriptions, qualifications, salaries, locations, and deadlines. Think data refinement and organization.\n",
        "\n",
        "3. Market Wizardry: Conjure up analytical tools that conjure meaningful revelations from the gathered data. Dive into the abyss of job demand trends, geographic distribution, salary variations tied to experience and location, favored qualifications, and emerging skill demands.\n",
        "\n",
        "4. Visual Magic: Weave a tapestry of visualization magic. Design captivating charts, graphs, and visual representations that paint a crystal-clear picture of the analyzed data. Make these visuals the compass that guides users through job market intricacies.\n",
        "\n",
        "🌐 While the web scraping universe is yours to explore, consider these platforms as potential stomping grounds:\n",
        "\n",
        "* LinkedIn Jobs\n",
        "* Indeed\n",
        "* Naukri\n",
        "* Glassdoor\n",
        "* AngelList\n",
        "\n",
        "🎈 Your solution should not only decode the data science job realm but also empower professionals, job seekers, and recruiters to harness the dynamic shifts of the industry. The path is open, the challenge beckons – are you ready to embark on this exciting journey?\n",
        "\n",
        "\n",
        "\n",
        "\n"
      ],
      "metadata": {
        "id": "WC4RKKoko7qr"
      }
    },
    {
      "cell_type": "markdown",
      "source": [
        "## Scraping Jobs From LinkedIn"
      ],
      "metadata": {
        "id": "Px8T1xJ5kNTX"
      }
    },
    {
      "cell_type": "code",
      "source": [
        "!pip install selenium"
      ],
      "metadata": {
        "colab": {
          "base_uri": "https://localhost:8080/"
        },
        "id": "bsix-TayhRCm",
        "outputId": "db40b888-7cca-4df9-be8e-0d61df51da09"
      },
      "execution_count": null,
      "outputs": [
        {
          "output_type": "stream",
          "name": "stdout",
          "text": [
            "Collecting selenium\n",
            "  Downloading selenium-4.15.2-py3-none-any.whl (10.2 MB)\n",
            "\u001b[2K     \u001b[90m━━━━━━━━━━━━━━━━━━━━━━━━━━━━━━━━━━━━━━━━\u001b[0m \u001b[32m10.2/10.2 MB\u001b[0m \u001b[31m24.5 MB/s\u001b[0m eta \u001b[36m0:00:00\u001b[0m\n",
            "\u001b[?25hRequirement already satisfied: urllib3[socks]<3,>=1.26 in /usr/local/lib/python3.10/dist-packages (from selenium) (2.0.7)\n",
            "Collecting trio~=0.17 (from selenium)\n",
            "  Downloading trio-0.23.1-py3-none-any.whl (448 kB)\n",
            "\u001b[2K     \u001b[90m━━━━━━━━━━━━━━━━━━━━━━━━━━━━━━━━━━━━━━━━\u001b[0m \u001b[32m448.3/448.3 kB\u001b[0m \u001b[31m44.1 MB/s\u001b[0m eta \u001b[36m0:00:00\u001b[0m\n",
            "\u001b[?25hCollecting trio-websocket~=0.9 (from selenium)\n",
            "  Downloading trio_websocket-0.11.1-py3-none-any.whl (17 kB)\n",
            "Requirement already satisfied: certifi>=2021.10.8 in /usr/local/lib/python3.10/dist-packages (from selenium) (2023.7.22)\n",
            "Requirement already satisfied: attrs>=20.1.0 in /usr/local/lib/python3.10/dist-packages (from trio~=0.17->selenium) (23.1.0)\n",
            "Requirement already satisfied: sortedcontainers in /usr/local/lib/python3.10/dist-packages (from trio~=0.17->selenium) (2.4.0)\n",
            "Requirement already satisfied: idna in /usr/local/lib/python3.10/dist-packages (from trio~=0.17->selenium) (3.4)\n",
            "Collecting outcome (from trio~=0.17->selenium)\n",
            "  Downloading outcome-1.3.0.post0-py2.py3-none-any.whl (10 kB)\n",
            "Requirement already satisfied: sniffio>=1.3.0 in /usr/local/lib/python3.10/dist-packages (from trio~=0.17->selenium) (1.3.0)\n",
            "Requirement already satisfied: exceptiongroup>=1.0.0rc9 in /usr/local/lib/python3.10/dist-packages (from trio~=0.17->selenium) (1.1.3)\n",
            "Collecting wsproto>=0.14 (from trio-websocket~=0.9->selenium)\n",
            "  Downloading wsproto-1.2.0-py3-none-any.whl (24 kB)\n",
            "Requirement already satisfied: pysocks!=1.5.7,<2.0,>=1.5.6 in /usr/local/lib/python3.10/dist-packages (from urllib3[socks]<3,>=1.26->selenium) (1.7.1)\n",
            "Collecting h11<1,>=0.9.0 (from wsproto>=0.14->trio-websocket~=0.9->selenium)\n",
            "  Downloading h11-0.14.0-py3-none-any.whl (58 kB)\n",
            "\u001b[2K     \u001b[90m━━━━━━━━━━━━━━━━━━━━━━━━━━━━━━━━━━━━━━━━\u001b[0m \u001b[32m58.3/58.3 kB\u001b[0m \u001b[31m8.4 MB/s\u001b[0m eta \u001b[36m0:00:00\u001b[0m\n",
            "\u001b[?25hInstalling collected packages: outcome, h11, wsproto, trio, trio-websocket, selenium\n",
            "Successfully installed h11-0.14.0 outcome-1.3.0.post0 selenium-4.15.2 trio-0.23.1 trio-websocket-0.11.1 wsproto-1.2.0\n"
          ]
        }
      ]
    },
    {
      "cell_type": "code",
      "source": [
        "!apt-get update\n",
        "!apt-get install chromium chromium-driver"
      ],
      "metadata": {
        "colab": {
          "base_uri": "https://localhost:8080/"
        },
        "id": "vke3DZuThaQD",
        "outputId": "455ec205-e316-4289-bdfc-86d9f8524928"
      },
      "execution_count": null,
      "outputs": [
        {
          "output_type": "stream",
          "name": "stdout",
          "text": [
            "\r0% [Working]\r            \rGet:1 https://cloud.r-project.org/bin/linux/ubuntu jammy-cran40/ InRelease [3,626 B]\n",
            "\r0% [Connecting to archive.ubuntu.com (91.189.91.83)] [Connecting to security.ubuntu.com (91.189.91.8\r0% [Connecting to archive.ubuntu.com (91.189.91.83)] [Waiting for headers] [Connecting to ppa.launch\r                                                                                                    \rHit:2 https://developer.download.nvidia.com/compute/cuda/repos/ubuntu2204/x86_64  InRelease\n",
            "Get:3 http://security.ubuntu.com/ubuntu jammy-security InRelease [110 kB]\n",
            "Hit:4 http://archive.ubuntu.com/ubuntu jammy InRelease\n",
            "Get:5 http://archive.ubuntu.com/ubuntu jammy-updates InRelease [119 kB]\n",
            "Get:6 https://cloud.r-project.org/bin/linux/ubuntu jammy-cran40/ Packages [46.6 kB]\n",
            "Get:7 http://archive.ubuntu.com/ubuntu jammy-backports InRelease [109 kB]\n",
            "Get:8 https://ppa.launchpadcontent.net/c2d4u.team/c2d4u4.0+/ubuntu jammy InRelease [18.1 kB]\n",
            "Get:9 http://archive.ubuntu.com/ubuntu jammy-updates/multiverse amd64 Packages [49.8 kB]\n",
            "Get:10 http://archive.ubuntu.com/ubuntu jammy-updates/restricted amd64 Packages [1,419 kB]\n",
            "Hit:11 https://ppa.launchpadcontent.net/deadsnakes/ppa/ubuntu jammy InRelease\n",
            "Hit:12 https://ppa.launchpadcontent.net/graphics-drivers/ppa/ubuntu jammy InRelease\n",
            "Hit:13 https://ppa.launchpadcontent.net/ubuntugis/ppa/ubuntu jammy InRelease\n",
            "Get:14 https://ppa.launchpadcontent.net/c2d4u.team/c2d4u4.0+/ubuntu jammy/main Sources [2,231 kB]\n",
            "Get:15 https://ppa.launchpadcontent.net/c2d4u.team/c2d4u4.0+/ubuntu jammy/main amd64 Packages [1,145 kB]\n",
            "Fetched 5,251 kB in 6s (933 kB/s)\n",
            "Reading package lists... Done\n",
            "Reading package lists... Done\n",
            "Building dependency tree... Done\n",
            "Reading state information... Done\n",
            "Note, selecting 'chromium-chromedriver' instead of 'chromium-driver'\n",
            "Package chromium is not available, but is referred to by another package.\n",
            "This may mean that the package is missing, has been obsoleted, or\n",
            "is only available from another source\n",
            "However the following packages replace it:\n",
            "  chromium-bsu\n",
            "\n",
            "E: Package 'chromium' has no installation candidate\n"
          ]
        }
      ]
    },
    {
      "cell_type": "code",
      "source": [
        "import logging\n",
        "from selenium import webdriver\n",
        "import time\n",
        "import random\n",
        "import pandas as pd\n",
        "from bs4 import BeautifulSoup\n",
        "import os"
      ],
      "metadata": {
        "id": "JIPPLJhliOFg"
      },
      "execution_count": null,
      "outputs": []
    },
    {
      "cell_type": "code",
      "source": [
        "from selenium.webdriver.support.select import Select\n",
        "from selenium.webdriver.support.ui import WebDriverWait\n",
        "from selenium.webdriver.common.by import By\n",
        "from selenium.webdriver.support import expected_conditions as EC\n",
        "from selenium.common.exceptions import NoSuchElementException, ElementClickInterceptedException"
      ],
      "metadata": {
        "id": "WADNeypLiPmp"
      },
      "execution_count": null,
      "outputs": []
    },
    {
      "cell_type": "code",
      "source": [
        "def web_driver():\n",
        "    options = webdriver.ChromeOptions()\n",
        "    options.add_argument(\"--verbose\")\n",
        "    options.add_argument('--no-sandbox')\n",
        "    options.add_argument('--headless')\n",
        "    options.add_argument('--disable-gpu')\n",
        "    options.add_argument(\"--window-size=1920, 1200\")\n",
        "    options.add_argument('--disable-dev-shm-usage')\n",
        "    driver = webdriver.Chrome(options=options)\n",
        "    return driver"
      ],
      "metadata": {
        "id": "qxzG3C-hi7Wd"
      },
      "execution_count": null,
      "outputs": []
    },
    {
      "cell_type": "code",
      "source": [
        "driver = web_driver()\n",
        "driver.implicitly_wait(10)"
      ],
      "metadata": {
        "id": "v3k3Q2VXjQSL"
      },
      "execution_count": null,
      "outputs": []
    },
    {
      "cell_type": "code",
      "source": [
        "'''\n",
        "import logging\n",
        "from selenium import webdriver\n",
        "from selenium.webdriver.common.by import By\n",
        "from selenium.webdriver.support.ui import WebDriverWait\n",
        "from selenium.webdriver.support import expected_conditions as EC\n",
        "from bs4 import BeautifulSoup\n",
        "import pandas as pd\n",
        "import random\n",
        "import time\n",
        "'''\n",
        "# Configure logging settings\n",
        "logging.basicConfig(filename=\"scraping.log\", level=logging.INFO)\n",
        "\n",
        "\n",
        "def scrape_linkedin_jobs(job_title: str, location: str, pages: int = None) -> list:\n",
        "    \"\"\"\n",
        "    Scrape job listings from LinkedIn based on job title, location and pages.\n",
        "\n",
        "    Parameters\n",
        "    ----------\n",
        "    job_title : str\n",
        "        The job title to search for on LinkedIn.\n",
        "    location : str\n",
        "        The location to search for jobs in on LinkedIn.\n",
        "    pages : int, optional\n",
        "        The number of pages of job listings to scrape. If None, all available pages will be scraped.\n",
        "\n",
        "    Returns\n",
        "    -------\n",
        "    list of dict\n",
        "        A list of dictionaries, where each dictionary represents a job listing\n",
        "        with the following keys: 'job_title', 'company_name', 'location', 'posted_date',\n",
        "        and 'job_description'.\n",
        "    \"\"\"\n",
        "\n",
        "    # Log a message indicating that we're starting a LinkedIn job search\n",
        "    logging.info(f'Starting LinkedIn job scrape for \"{job_title}\" in \"{location}\"...')\n",
        "\n",
        "    # Sets the pages to scrape if not provided\n",
        "    pages = pages or 1\n",
        "\n",
        "    # Navigate to the LinkedIn job search page with the given job title and location\n",
        "    driver.get(\n",
        "        f\"https://www.linkedin.com/jobs/search/?keywords={job_title}&location={location}\"\n",
        "    )\n",
        "\n",
        "    # Scroll through the first 50 pages of search results on LinkedIn\n",
        "    for i in range(pages):\n",
        "\n",
        "        # Log the current page number\n",
        "        logging.info(f\"Scrolling to bottom of page {i+1}...\")\n",
        "\n",
        "        # Scroll to the bottom of the page using JavaScript\n",
        "        driver.execute_script(\"window.scrollTo(0, document.body.scrollHeight);\")\n",
        "\n",
        "        try:\n",
        "            # Wait for the \"Show more\" button to be present on the page\n",
        "            element = WebDriverWait(driver, 5).until(\n",
        "                EC.presence_of_element_located(\n",
        "                    (By.XPATH, \"/html/body/div[1]/div/main/section[2]/button\")\n",
        "                )\n",
        "            )\n",
        "            # Click on the \"Show more\" button\n",
        "            element.click()\n",
        "\n",
        "        # Handle any exception that may occur when locating or clicking on the button\n",
        "        except Exception:\n",
        "            # Log a message indicating that the button was not found and we're retrying\n",
        "            logging.info(\"Show more button not found, retrying...\")\n",
        "\n",
        "        # Wait for a random amount of time before scrolling to the next page\n",
        "        time.sleep(random.choice(list(range(3, 7))))\n",
        "\n",
        "    # Scrape the job postings\n",
        "    jobs = []\n",
        "    soup = BeautifulSoup(driver.page_source, \"html.parser\")\n",
        "    job_listings = soup.find_all(\n",
        "        \"div\",\n",
        "        class_=\"base-card relative w-full hover:no-underline focus:no-underline base-card--link base-search-card base-search-card--link job-search-card\",\n",
        "    )\n",
        "\n",
        "    try:\n",
        "        for job in job_listings:\n",
        "            # Extract job details\n",
        "\n",
        "            # job title\n",
        "            job_title = job.find(\"h3\", class_=\"base-search-card__title\").text.strip()\n",
        "            # job company\n",
        "            job_company = job.find(\n",
        "                \"h4\", class_=\"base-search-card__subtitle\"\n",
        "            ).text.strip()\n",
        "            # job location\n",
        "            job_location = job.find(\n",
        "                \"span\", class_=\"job-search-card__location\"\n",
        "            ).text.strip()\n",
        "            # job link\n",
        "            apply_link = job.find(\"a\", class_=\"base-card__full-link\")[\"href\"]\n",
        "\n",
        "            # Navigate to the job posting page and scrape the description\n",
        "            driver.get(apply_link)\n",
        "\n",
        "            # Sleeping randomly\n",
        "            time.sleep(random.choice(list(range(5, 11))))\n",
        "\n",
        "            # Use try-except block to handle exceptions when retrieving job description\n",
        "            try:\n",
        "                # Create a BeautifulSoup object from the webpage source\n",
        "                description_soup = BeautifulSoup(driver.page_source, \"html.parser\")\n",
        "\n",
        "                # Find the job description element and extract its text\n",
        "                job_description = description_soup.find(\n",
        "                    \"div\", class_=\"description__text description__text--rich\"\n",
        "                ).text.strip()\n",
        "\n",
        "            # Handle the AttributeError exception that may occur if the element is not found\n",
        "            except AttributeError:\n",
        "                # Assign None to the job_description variable to indicate that no description was found\n",
        "                job_description = None\n",
        "\n",
        "                # Write a warning message to the log file\n",
        "                logging.warning(\n",
        "                    \"AttributeError occurred while retrieving job description.\"\n",
        "                )\n",
        "\n",
        "            # Add job details to the jobs list\n",
        "            jobs.append(\n",
        "                {\n",
        "                    \"title\": job_title,\n",
        "                    \"company\": job_company,\n",
        "                    \"location\": job_location,\n",
        "                    \"link\": apply_link,\n",
        "                    \"description\": job_description,\n",
        "                }\n",
        "            )\n",
        "            # Logging scrapped job with company and location information\n",
        "            logging.info(f'Scraped \"{job_title}\" at {job_company} in {job_location}...')\n",
        "\n",
        "    # Catching any exception that occurs in the scrapping process\n",
        "    except Exception as e:\n",
        "        # Log an error message with the exception details\n",
        "        logging.error(f\"An error occurred while scraping jobs: {str(e)}\")\n",
        "\n",
        "        # Return the jobs list that has been collected so far\n",
        "        # This ensures that even if the scraping process is interrupted due to an error, we still have some data\n",
        "        return jobs\n",
        "\n",
        "    # Close the Selenium web driver\n",
        "    driver.quit()\n",
        "\n",
        "    # Return the jobs list\n",
        "    return jobs\n",
        "\n",
        "\n",
        "def save_job_data(data: dict) -> None:\n",
        "    \"\"\"\n",
        "    Save job data to a CSV file.\n",
        "\n",
        "    Args:\n",
        "        data: A dictionary containing job data.\n",
        "\n",
        "    Returns:\n",
        "        None\n",
        "    \"\"\"\n",
        "\n",
        "    # Create a pandas DataFrame from the job data dictionary\n",
        "    df = pd.DataFrame(data)\n",
        "\n",
        "    # Save the DataFrame to a CSV file without including the index column\n",
        "    df.to_csv(\"jobs.csv\", index=False)\n",
        "\n",
        "    # Log a message indicating how many jobs were successfully scraped and saved to the CSV file\n",
        "    logging.info(f\"Successfully scraped {len(data)} jobs and saved to jobs.csv\")\n",
        "\n",
        "\n",
        "data = scrape_linkedin_jobs(\"Data analyst\", \"India\",5)\n",
        "save_job_data(data)"
      ],
      "metadata": {
        "id": "0PdYD4oA2Z1K"
      },
      "execution_count": null,
      "outputs": []
    },
    {
      "cell_type": "code",
      "source": [
        "df = pd.read_csv('jobs.csv')\n",
        "print(df)"
      ],
      "metadata": {
        "colab": {
          "base_uri": "https://localhost:8080/"
        },
        "id": "LnsUjqCQkt7l",
        "outputId": "5d9c6232-bd54-475f-9138-fcb22b7f3970"
      },
      "execution_count": null,
      "outputs": [
        {
          "output_type": "stream",
          "name": "stdout",
          "text": [
            "                                         title                  company  \\\n",
            "0                            Lead Data Analyst           Airtel Digital   \n",
            "1     Senior Data Analyst (Power BI , Tableau)                   Ivanti   \n",
            "2                    Jr. Data Analyst (Remote)          Rocket Learning   \n",
            "3              Data Research Analyst Team Lead           Forbes Advisor   \n",
            "4                                 Data Analyst          Mastech Digital   \n",
            "..                                         ...                      ...   \n",
            "140                               Data Analyst                   Turing   \n",
            "141                     data analyst - Chennai  MNR Solutions Pvt. Ltd.   \n",
            "142                             Data Analyst I               VARITE INC   \n",
            "143  Business Intelligence Reporting Analyst I                  Paychex   \n",
            "144                               Data Analyst                     Yugn   \n",
            "\n",
            "                              location  \\\n",
            "0             Gurugram, Haryana, India   \n",
            "1    Bangalore Urban, Karnataka, India   \n",
            "2                                India   \n",
            "3           Mumbai, Maharashtra, India   \n",
            "4          Hyderabad, Telangana, India   \n",
            "..                                 ...   \n",
            "140                Delhi, Delhi, India   \n",
            "141         Chennai, Tamil Nadu, India   \n",
            "142            Gurgaon, Haryana, India   \n",
            "143        Bengaluru, Karnataka, India   \n",
            "144            Gurgaon, Haryana, India   \n",
            "\n",
            "                                                  link  \\\n",
            "0    https://in.linkedin.com/jobs/view/lead-data-an...   \n",
            "1    https://in.linkedin.com/jobs/view/senior-data-...   \n",
            "2    https://in.linkedin.com/jobs/view/jr-data-anal...   \n",
            "3    https://in.linkedin.com/jobs/view/data-researc...   \n",
            "4    https://in.linkedin.com/jobs/view/data-analyst...   \n",
            "..                                                 ...   \n",
            "140  https://in.linkedin.com/jobs/view/data-analyst...   \n",
            "141  https://in.linkedin.com/jobs/view/data-analyst...   \n",
            "142  https://in.linkedin.com/jobs/view/data-analyst...   \n",
            "143  https://in.linkedin.com/jobs/view/business-int...   \n",
            "144  https://in.linkedin.com/jobs/view/data-analyst...   \n",
            "\n",
            "                                           description  \n",
            "0    At Airtel Digital, we are transforming from a ...  \n",
            "1    Senior Recruiting Operations SpecialistWho We ...  \n",
            "2    JOB ID: 63753Role: Jr. Data Analyst (Remote)Ye...  \n",
            "3    Company DescriptionLocation : MumbaiForbes Adv...  \n",
            "4    Title : Data Analyst Number of openings : 3 op...  \n",
            "..                                                 ...  \n",
            "140  A rapidly-growing well-established company tha...  \n",
            "141  Urgent Hiring -Data Entry operator Experience ...  \n",
            "142  DutiesThis role will provide support for custo...  \n",
            "143  Title Business Intelligence Reporting Analyst ...  \n",
            "144  Profile: Data AnalystSector: HospitalityProfil...  \n",
            "\n",
            "[145 rows x 5 columns]\n"
          ]
        }
      ]
    },
    {
      "cell_type": "markdown",
      "source": [
        "## Data Analysis"
      ],
      "metadata": {
        "id": "pRZ04NwvkGUH"
      }
    },
    {
      "cell_type": "code",
      "source": [
        "df.head()"
      ],
      "metadata": {
        "colab": {
          "base_uri": "https://localhost:8080/",
          "height": 206
        },
        "id": "d-mfq97m8-zZ",
        "outputId": "368a43e6-9010-4a5f-fce7-313ef178a046"
      },
      "execution_count": null,
      "outputs": [
        {
          "output_type": "execute_result",
          "data": {
            "text/plain": [
              "                                      title          company  \\\n",
              "0                         Lead Data Analyst   Airtel Digital   \n",
              "1  Senior Data Analyst (Power BI , Tableau)           Ivanti   \n",
              "2                 Jr. Data Analyst (Remote)  Rocket Learning   \n",
              "3           Data Research Analyst Team Lead   Forbes Advisor   \n",
              "4                              Data Analyst  Mastech Digital   \n",
              "\n",
              "                            location  \\\n",
              "0           Gurugram, Haryana, India   \n",
              "1  Bangalore Urban, Karnataka, India   \n",
              "2                              India   \n",
              "3         Mumbai, Maharashtra, India   \n",
              "4        Hyderabad, Telangana, India   \n",
              "\n",
              "                                                link  \\\n",
              "0  https://in.linkedin.com/jobs/view/lead-data-an...   \n",
              "1  https://in.linkedin.com/jobs/view/senior-data-...   \n",
              "2  https://in.linkedin.com/jobs/view/jr-data-anal...   \n",
              "3  https://in.linkedin.com/jobs/view/data-researc...   \n",
              "4  https://in.linkedin.com/jobs/view/data-analyst...   \n",
              "\n",
              "                                         description  \n",
              "0  At Airtel Digital, we are transforming from a ...  \n",
              "1  Senior Recruiting Operations SpecialistWho We ...  \n",
              "2  JOB ID: 63753Role: Jr. Data Analyst (Remote)Ye...  \n",
              "3  Company DescriptionLocation : MumbaiForbes Adv...  \n",
              "4  Title : Data Analyst Number of openings : 3 op...  "
            ],
            "text/html": [
              "\n",
              "  <div id=\"df-693a5644-c60b-4d6e-996d-4f4202d18f9d\" class=\"colab-df-container\">\n",
              "    <div>\n",
              "<style scoped>\n",
              "    .dataframe tbody tr th:only-of-type {\n",
              "        vertical-align: middle;\n",
              "    }\n",
              "\n",
              "    .dataframe tbody tr th {\n",
              "        vertical-align: top;\n",
              "    }\n",
              "\n",
              "    .dataframe thead th {\n",
              "        text-align: right;\n",
              "    }\n",
              "</style>\n",
              "<table border=\"1\" class=\"dataframe\">\n",
              "  <thead>\n",
              "    <tr style=\"text-align: right;\">\n",
              "      <th></th>\n",
              "      <th>title</th>\n",
              "      <th>company</th>\n",
              "      <th>location</th>\n",
              "      <th>link</th>\n",
              "      <th>description</th>\n",
              "    </tr>\n",
              "  </thead>\n",
              "  <tbody>\n",
              "    <tr>\n",
              "      <th>0</th>\n",
              "      <td>Lead Data Analyst</td>\n",
              "      <td>Airtel Digital</td>\n",
              "      <td>Gurugram, Haryana, India</td>\n",
              "      <td>https://in.linkedin.com/jobs/view/lead-data-an...</td>\n",
              "      <td>At Airtel Digital, we are transforming from a ...</td>\n",
              "    </tr>\n",
              "    <tr>\n",
              "      <th>1</th>\n",
              "      <td>Senior Data Analyst (Power BI , Tableau)</td>\n",
              "      <td>Ivanti</td>\n",
              "      <td>Bangalore Urban, Karnataka, India</td>\n",
              "      <td>https://in.linkedin.com/jobs/view/senior-data-...</td>\n",
              "      <td>Senior Recruiting Operations SpecialistWho We ...</td>\n",
              "    </tr>\n",
              "    <tr>\n",
              "      <th>2</th>\n",
              "      <td>Jr. Data Analyst (Remote)</td>\n",
              "      <td>Rocket Learning</td>\n",
              "      <td>India</td>\n",
              "      <td>https://in.linkedin.com/jobs/view/jr-data-anal...</td>\n",
              "      <td>JOB ID: 63753Role: Jr. Data Analyst (Remote)Ye...</td>\n",
              "    </tr>\n",
              "    <tr>\n",
              "      <th>3</th>\n",
              "      <td>Data Research Analyst Team Lead</td>\n",
              "      <td>Forbes Advisor</td>\n",
              "      <td>Mumbai, Maharashtra, India</td>\n",
              "      <td>https://in.linkedin.com/jobs/view/data-researc...</td>\n",
              "      <td>Company DescriptionLocation : MumbaiForbes Adv...</td>\n",
              "    </tr>\n",
              "    <tr>\n",
              "      <th>4</th>\n",
              "      <td>Data Analyst</td>\n",
              "      <td>Mastech Digital</td>\n",
              "      <td>Hyderabad, Telangana, India</td>\n",
              "      <td>https://in.linkedin.com/jobs/view/data-analyst...</td>\n",
              "      <td>Title : Data Analyst Number of openings : 3 op...</td>\n",
              "    </tr>\n",
              "  </tbody>\n",
              "</table>\n",
              "</div>\n",
              "    <div class=\"colab-df-buttons\">\n",
              "\n",
              "  <div class=\"colab-df-container\">\n",
              "    <button class=\"colab-df-convert\" onclick=\"convertToInteractive('df-693a5644-c60b-4d6e-996d-4f4202d18f9d')\"\n",
              "            title=\"Convert this dataframe to an interactive table.\"\n",
              "            style=\"display:none;\">\n",
              "\n",
              "  <svg xmlns=\"http://www.w3.org/2000/svg\" height=\"24px\" viewBox=\"0 -960 960 960\">\n",
              "    <path d=\"M120-120v-720h720v720H120Zm60-500h600v-160H180v160Zm220 220h160v-160H400v160Zm0 220h160v-160H400v160ZM180-400h160v-160H180v160Zm440 0h160v-160H620v160ZM180-180h160v-160H180v160Zm440 0h160v-160H620v160Z\"/>\n",
              "  </svg>\n",
              "    </button>\n",
              "\n",
              "  <style>\n",
              "    .colab-df-container {\n",
              "      display:flex;\n",
              "      gap: 12px;\n",
              "    }\n",
              "\n",
              "    .colab-df-convert {\n",
              "      background-color: #E8F0FE;\n",
              "      border: none;\n",
              "      border-radius: 50%;\n",
              "      cursor: pointer;\n",
              "      display: none;\n",
              "      fill: #1967D2;\n",
              "      height: 32px;\n",
              "      padding: 0 0 0 0;\n",
              "      width: 32px;\n",
              "    }\n",
              "\n",
              "    .colab-df-convert:hover {\n",
              "      background-color: #E2EBFA;\n",
              "      box-shadow: 0px 1px 2px rgba(60, 64, 67, 0.3), 0px 1px 3px 1px rgba(60, 64, 67, 0.15);\n",
              "      fill: #174EA6;\n",
              "    }\n",
              "\n",
              "    .colab-df-buttons div {\n",
              "      margin-bottom: 4px;\n",
              "    }\n",
              "\n",
              "    [theme=dark] .colab-df-convert {\n",
              "      background-color: #3B4455;\n",
              "      fill: #D2E3FC;\n",
              "    }\n",
              "\n",
              "    [theme=dark] .colab-df-convert:hover {\n",
              "      background-color: #434B5C;\n",
              "      box-shadow: 0px 1px 3px 1px rgba(0, 0, 0, 0.15);\n",
              "      filter: drop-shadow(0px 1px 2px rgba(0, 0, 0, 0.3));\n",
              "      fill: #FFFFFF;\n",
              "    }\n",
              "  </style>\n",
              "\n",
              "    <script>\n",
              "      const buttonEl =\n",
              "        document.querySelector('#df-693a5644-c60b-4d6e-996d-4f4202d18f9d button.colab-df-convert');\n",
              "      buttonEl.style.display =\n",
              "        google.colab.kernel.accessAllowed ? 'block' : 'none';\n",
              "\n",
              "      async function convertToInteractive(key) {\n",
              "        const element = document.querySelector('#df-693a5644-c60b-4d6e-996d-4f4202d18f9d');\n",
              "        const dataTable =\n",
              "          await google.colab.kernel.invokeFunction('convertToInteractive',\n",
              "                                                    [key], {});\n",
              "        if (!dataTable) return;\n",
              "\n",
              "        const docLinkHtml = 'Like what you see? Visit the ' +\n",
              "          '<a target=\"_blank\" href=https://colab.research.google.com/notebooks/data_table.ipynb>data table notebook</a>'\n",
              "          + ' to learn more about interactive tables.';\n",
              "        element.innerHTML = '';\n",
              "        dataTable['output_type'] = 'display_data';\n",
              "        await google.colab.output.renderOutput(dataTable, element);\n",
              "        const docLink = document.createElement('div');\n",
              "        docLink.innerHTML = docLinkHtml;\n",
              "        element.appendChild(docLink);\n",
              "      }\n",
              "    </script>\n",
              "  </div>\n",
              "\n",
              "\n",
              "<div id=\"df-5483e665-ccac-4e68-94d7-e68dd11708b5\">\n",
              "  <button class=\"colab-df-quickchart\" onclick=\"quickchart('df-5483e665-ccac-4e68-94d7-e68dd11708b5')\"\n",
              "            title=\"Suggest charts.\"\n",
              "            style=\"display:none;\">\n",
              "\n",
              "<svg xmlns=\"http://www.w3.org/2000/svg\" height=\"24px\"viewBox=\"0 0 24 24\"\n",
              "     width=\"24px\">\n",
              "    <g>\n",
              "        <path d=\"M19 3H5c-1.1 0-2 .9-2 2v14c0 1.1.9 2 2 2h14c1.1 0 2-.9 2-2V5c0-1.1-.9-2-2-2zM9 17H7v-7h2v7zm4 0h-2V7h2v10zm4 0h-2v-4h2v4z\"/>\n",
              "    </g>\n",
              "</svg>\n",
              "  </button>\n",
              "\n",
              "<style>\n",
              "  .colab-df-quickchart {\n",
              "      --bg-color: #E8F0FE;\n",
              "      --fill-color: #1967D2;\n",
              "      --hover-bg-color: #E2EBFA;\n",
              "      --hover-fill-color: #174EA6;\n",
              "      --disabled-fill-color: #AAA;\n",
              "      --disabled-bg-color: #DDD;\n",
              "  }\n",
              "\n",
              "  [theme=dark] .colab-df-quickchart {\n",
              "      --bg-color: #3B4455;\n",
              "      --fill-color: #D2E3FC;\n",
              "      --hover-bg-color: #434B5C;\n",
              "      --hover-fill-color: #FFFFFF;\n",
              "      --disabled-bg-color: #3B4455;\n",
              "      --disabled-fill-color: #666;\n",
              "  }\n",
              "\n",
              "  .colab-df-quickchart {\n",
              "    background-color: var(--bg-color);\n",
              "    border: none;\n",
              "    border-radius: 50%;\n",
              "    cursor: pointer;\n",
              "    display: none;\n",
              "    fill: var(--fill-color);\n",
              "    height: 32px;\n",
              "    padding: 0;\n",
              "    width: 32px;\n",
              "  }\n",
              "\n",
              "  .colab-df-quickchart:hover {\n",
              "    background-color: var(--hover-bg-color);\n",
              "    box-shadow: 0 1px 2px rgba(60, 64, 67, 0.3), 0 1px 3px 1px rgba(60, 64, 67, 0.15);\n",
              "    fill: var(--button-hover-fill-color);\n",
              "  }\n",
              "\n",
              "  .colab-df-quickchart-complete:disabled,\n",
              "  .colab-df-quickchart-complete:disabled:hover {\n",
              "    background-color: var(--disabled-bg-color);\n",
              "    fill: var(--disabled-fill-color);\n",
              "    box-shadow: none;\n",
              "  }\n",
              "\n",
              "  .colab-df-spinner {\n",
              "    border: 2px solid var(--fill-color);\n",
              "    border-color: transparent;\n",
              "    border-bottom-color: var(--fill-color);\n",
              "    animation:\n",
              "      spin 1s steps(1) infinite;\n",
              "  }\n",
              "\n",
              "  @keyframes spin {\n",
              "    0% {\n",
              "      border-color: transparent;\n",
              "      border-bottom-color: var(--fill-color);\n",
              "      border-left-color: var(--fill-color);\n",
              "    }\n",
              "    20% {\n",
              "      border-color: transparent;\n",
              "      border-left-color: var(--fill-color);\n",
              "      border-top-color: var(--fill-color);\n",
              "    }\n",
              "    30% {\n",
              "      border-color: transparent;\n",
              "      border-left-color: var(--fill-color);\n",
              "      border-top-color: var(--fill-color);\n",
              "      border-right-color: var(--fill-color);\n",
              "    }\n",
              "    40% {\n",
              "      border-color: transparent;\n",
              "      border-right-color: var(--fill-color);\n",
              "      border-top-color: var(--fill-color);\n",
              "    }\n",
              "    60% {\n",
              "      border-color: transparent;\n",
              "      border-right-color: var(--fill-color);\n",
              "    }\n",
              "    80% {\n",
              "      border-color: transparent;\n",
              "      border-right-color: var(--fill-color);\n",
              "      border-bottom-color: var(--fill-color);\n",
              "    }\n",
              "    90% {\n",
              "      border-color: transparent;\n",
              "      border-bottom-color: var(--fill-color);\n",
              "    }\n",
              "  }\n",
              "</style>\n",
              "\n",
              "  <script>\n",
              "    async function quickchart(key) {\n",
              "      const quickchartButtonEl =\n",
              "        document.querySelector('#' + key + ' button');\n",
              "      quickchartButtonEl.disabled = true;  // To prevent multiple clicks.\n",
              "      quickchartButtonEl.classList.add('colab-df-spinner');\n",
              "      try {\n",
              "        const charts = await google.colab.kernel.invokeFunction(\n",
              "            'suggestCharts', [key], {});\n",
              "      } catch (error) {\n",
              "        console.error('Error during call to suggestCharts:', error);\n",
              "      }\n",
              "      quickchartButtonEl.classList.remove('colab-df-spinner');\n",
              "      quickchartButtonEl.classList.add('colab-df-quickchart-complete');\n",
              "    }\n",
              "    (() => {\n",
              "      let quickchartButtonEl =\n",
              "        document.querySelector('#df-5483e665-ccac-4e68-94d7-e68dd11708b5 button');\n",
              "      quickchartButtonEl.style.display =\n",
              "        google.colab.kernel.accessAllowed ? 'block' : 'none';\n",
              "    })();\n",
              "  </script>\n",
              "</div>\n",
              "    </div>\n",
              "  </div>\n"
            ]
          },
          "metadata": {},
          "execution_count": 9
        }
      ]
    },
    {
      "cell_type": "code",
      "source": [
        "df.info()"
      ],
      "metadata": {
        "colab": {
          "base_uri": "https://localhost:8080/"
        },
        "id": "n5Zdac52hODg",
        "outputId": "249dc179-9cc6-4679-9c7c-89c333b434d6"
      },
      "execution_count": null,
      "outputs": [
        {
          "output_type": "stream",
          "name": "stdout",
          "text": [
            "<class 'pandas.core.frame.DataFrame'>\n",
            "RangeIndex: 145 entries, 0 to 144\n",
            "Data columns (total 5 columns):\n",
            " #   Column       Non-Null Count  Dtype \n",
            "---  ------       --------------  ----- \n",
            " 0   title        145 non-null    object\n",
            " 1   company      145 non-null    object\n",
            " 2   location     145 non-null    object\n",
            " 3   link         145 non-null    object\n",
            " 4   description  145 non-null    object\n",
            "dtypes: object(5)\n",
            "memory usage: 5.8+ KB\n"
          ]
        }
      ]
    },
    {
      "cell_type": "markdown",
      "source": [
        "no null values are present in the csv file"
      ],
      "metadata": {
        "id": "eg_Zeq-6loha"
      }
    },
    {
      "cell_type": "code",
      "source": [
        "print(df.duplicated())"
      ],
      "metadata": {
        "colab": {
          "base_uri": "https://localhost:8080/"
        },
        "id": "jwk4j_kzkZsQ",
        "outputId": "fbd6a28e-2cb5-4e9e-9e4b-8e4d8e5f5710"
      },
      "execution_count": null,
      "outputs": [
        {
          "output_type": "stream",
          "name": "stdout",
          "text": [
            "0      False\n",
            "1      False\n",
            "2      False\n",
            "3      False\n",
            "4      False\n",
            "       ...  \n",
            "140    False\n",
            "141    False\n",
            "142    False\n",
            "143    False\n",
            "144    False\n",
            "Length: 145, dtype: bool\n"
          ]
        }
      ]
    },
    {
      "cell_type": "markdown",
      "source": [
        "no duplicate values are present"
      ],
      "metadata": {
        "id": "SJ89rSgnltBO"
      }
    },
    {
      "cell_type": "code",
      "source": [
        "df.shape"
      ],
      "metadata": {
        "colab": {
          "base_uri": "https://localhost:8080/"
        },
        "id": "G7Cgbgj7EUEz",
        "outputId": "a35d4c55-1bcf-4206-9729-da5226ce5f81"
      },
      "execution_count": null,
      "outputs": [
        {
          "output_type": "execute_result",
          "data": {
            "text/plain": [
              "(145, 5)"
            ]
          },
          "metadata": {},
          "execution_count": 12
        }
      ]
    },
    {
      "cell_type": "code",
      "source": [
        "df.isnull().sum()"
      ],
      "metadata": {
        "colab": {
          "base_uri": "https://localhost:8080/"
        },
        "id": "2Nng1elZEVsK",
        "outputId": "7171e901-0731-45d6-b955-e4fe5acc6926"
      },
      "execution_count": null,
      "outputs": [
        {
          "output_type": "execute_result",
          "data": {
            "text/plain": [
              "title          0\n",
              "company        0\n",
              "location       0\n",
              "link           0\n",
              "description    0\n",
              "dtype: int64"
            ]
          },
          "metadata": {},
          "execution_count": 13
        }
      ]
    },
    {
      "cell_type": "code",
      "source": [
        "df.describe()"
      ],
      "metadata": {
        "colab": {
          "base_uri": "https://localhost:8080/",
          "height": 175
        },
        "id": "I7b6RHdHWChp",
        "outputId": "bae73970-e134-4a02-b692-2adac452b9be"
      },
      "execution_count": null,
      "outputs": [
        {
          "output_type": "execute_result",
          "data": {
            "text/plain": [
              "               title company                     location  \\\n",
              "count            145     145                          145   \n",
              "unique            74     103                           29   \n",
              "top     Data Analyst  Turing  Bengaluru, Karnataka, India   \n",
              "freq              57      14                           34   \n",
              "\n",
              "                                                     link  \\\n",
              "count                                                 145   \n",
              "unique                                                145   \n",
              "top     https://in.linkedin.com/jobs/view/lead-data-an...   \n",
              "freq                                                    1   \n",
              "\n",
              "                                              description  \n",
              "count                                                 145  \n",
              "unique                                                124  \n",
              "top     A fast-growing company that is on a mission to...  \n",
              "freq                                                    7  "
            ],
            "text/html": [
              "\n",
              "  <div id=\"df-e077b3b6-5aa6-4166-82fb-6c8862f68a0b\" class=\"colab-df-container\">\n",
              "    <div>\n",
              "<style scoped>\n",
              "    .dataframe tbody tr th:only-of-type {\n",
              "        vertical-align: middle;\n",
              "    }\n",
              "\n",
              "    .dataframe tbody tr th {\n",
              "        vertical-align: top;\n",
              "    }\n",
              "\n",
              "    .dataframe thead th {\n",
              "        text-align: right;\n",
              "    }\n",
              "</style>\n",
              "<table border=\"1\" class=\"dataframe\">\n",
              "  <thead>\n",
              "    <tr style=\"text-align: right;\">\n",
              "      <th></th>\n",
              "      <th>title</th>\n",
              "      <th>company</th>\n",
              "      <th>location</th>\n",
              "      <th>link</th>\n",
              "      <th>description</th>\n",
              "    </tr>\n",
              "  </thead>\n",
              "  <tbody>\n",
              "    <tr>\n",
              "      <th>count</th>\n",
              "      <td>145</td>\n",
              "      <td>145</td>\n",
              "      <td>145</td>\n",
              "      <td>145</td>\n",
              "      <td>145</td>\n",
              "    </tr>\n",
              "    <tr>\n",
              "      <th>unique</th>\n",
              "      <td>74</td>\n",
              "      <td>103</td>\n",
              "      <td>29</td>\n",
              "      <td>145</td>\n",
              "      <td>124</td>\n",
              "    </tr>\n",
              "    <tr>\n",
              "      <th>top</th>\n",
              "      <td>Data Analyst</td>\n",
              "      <td>Turing</td>\n",
              "      <td>Bengaluru, Karnataka, India</td>\n",
              "      <td>https://in.linkedin.com/jobs/view/lead-data-an...</td>\n",
              "      <td>A fast-growing company that is on a mission to...</td>\n",
              "    </tr>\n",
              "    <tr>\n",
              "      <th>freq</th>\n",
              "      <td>57</td>\n",
              "      <td>14</td>\n",
              "      <td>34</td>\n",
              "      <td>1</td>\n",
              "      <td>7</td>\n",
              "    </tr>\n",
              "  </tbody>\n",
              "</table>\n",
              "</div>\n",
              "    <div class=\"colab-df-buttons\">\n",
              "\n",
              "  <div class=\"colab-df-container\">\n",
              "    <button class=\"colab-df-convert\" onclick=\"convertToInteractive('df-e077b3b6-5aa6-4166-82fb-6c8862f68a0b')\"\n",
              "            title=\"Convert this dataframe to an interactive table.\"\n",
              "            style=\"display:none;\">\n",
              "\n",
              "  <svg xmlns=\"http://www.w3.org/2000/svg\" height=\"24px\" viewBox=\"0 -960 960 960\">\n",
              "    <path d=\"M120-120v-720h720v720H120Zm60-500h600v-160H180v160Zm220 220h160v-160H400v160Zm0 220h160v-160H400v160ZM180-400h160v-160H180v160Zm440 0h160v-160H620v160ZM180-180h160v-160H180v160Zm440 0h160v-160H620v160Z\"/>\n",
              "  </svg>\n",
              "    </button>\n",
              "\n",
              "  <style>\n",
              "    .colab-df-container {\n",
              "      display:flex;\n",
              "      gap: 12px;\n",
              "    }\n",
              "\n",
              "    .colab-df-convert {\n",
              "      background-color: #E8F0FE;\n",
              "      border: none;\n",
              "      border-radius: 50%;\n",
              "      cursor: pointer;\n",
              "      display: none;\n",
              "      fill: #1967D2;\n",
              "      height: 32px;\n",
              "      padding: 0 0 0 0;\n",
              "      width: 32px;\n",
              "    }\n",
              "\n",
              "    .colab-df-convert:hover {\n",
              "      background-color: #E2EBFA;\n",
              "      box-shadow: 0px 1px 2px rgba(60, 64, 67, 0.3), 0px 1px 3px 1px rgba(60, 64, 67, 0.15);\n",
              "      fill: #174EA6;\n",
              "    }\n",
              "\n",
              "    .colab-df-buttons div {\n",
              "      margin-bottom: 4px;\n",
              "    }\n",
              "\n",
              "    [theme=dark] .colab-df-convert {\n",
              "      background-color: #3B4455;\n",
              "      fill: #D2E3FC;\n",
              "    }\n",
              "\n",
              "    [theme=dark] .colab-df-convert:hover {\n",
              "      background-color: #434B5C;\n",
              "      box-shadow: 0px 1px 3px 1px rgba(0, 0, 0, 0.15);\n",
              "      filter: drop-shadow(0px 1px 2px rgba(0, 0, 0, 0.3));\n",
              "      fill: #FFFFFF;\n",
              "    }\n",
              "  </style>\n",
              "\n",
              "    <script>\n",
              "      const buttonEl =\n",
              "        document.querySelector('#df-e077b3b6-5aa6-4166-82fb-6c8862f68a0b button.colab-df-convert');\n",
              "      buttonEl.style.display =\n",
              "        google.colab.kernel.accessAllowed ? 'block' : 'none';\n",
              "\n",
              "      async function convertToInteractive(key) {\n",
              "        const element = document.querySelector('#df-e077b3b6-5aa6-4166-82fb-6c8862f68a0b');\n",
              "        const dataTable =\n",
              "          await google.colab.kernel.invokeFunction('convertToInteractive',\n",
              "                                                    [key], {});\n",
              "        if (!dataTable) return;\n",
              "\n",
              "        const docLinkHtml = 'Like what you see? Visit the ' +\n",
              "          '<a target=\"_blank\" href=https://colab.research.google.com/notebooks/data_table.ipynb>data table notebook</a>'\n",
              "          + ' to learn more about interactive tables.';\n",
              "        element.innerHTML = '';\n",
              "        dataTable['output_type'] = 'display_data';\n",
              "        await google.colab.output.renderOutput(dataTable, element);\n",
              "        const docLink = document.createElement('div');\n",
              "        docLink.innerHTML = docLinkHtml;\n",
              "        element.appendChild(docLink);\n",
              "      }\n",
              "    </script>\n",
              "  </div>\n",
              "\n",
              "\n",
              "<div id=\"df-2a390ec1-9b01-4512-a2bb-0066f78fccdc\">\n",
              "  <button class=\"colab-df-quickchart\" onclick=\"quickchart('df-2a390ec1-9b01-4512-a2bb-0066f78fccdc')\"\n",
              "            title=\"Suggest charts.\"\n",
              "            style=\"display:none;\">\n",
              "\n",
              "<svg xmlns=\"http://www.w3.org/2000/svg\" height=\"24px\"viewBox=\"0 0 24 24\"\n",
              "     width=\"24px\">\n",
              "    <g>\n",
              "        <path d=\"M19 3H5c-1.1 0-2 .9-2 2v14c0 1.1.9 2 2 2h14c1.1 0 2-.9 2-2V5c0-1.1-.9-2-2-2zM9 17H7v-7h2v7zm4 0h-2V7h2v10zm4 0h-2v-4h2v4z\"/>\n",
              "    </g>\n",
              "</svg>\n",
              "  </button>\n",
              "\n",
              "<style>\n",
              "  .colab-df-quickchart {\n",
              "      --bg-color: #E8F0FE;\n",
              "      --fill-color: #1967D2;\n",
              "      --hover-bg-color: #E2EBFA;\n",
              "      --hover-fill-color: #174EA6;\n",
              "      --disabled-fill-color: #AAA;\n",
              "      --disabled-bg-color: #DDD;\n",
              "  }\n",
              "\n",
              "  [theme=dark] .colab-df-quickchart {\n",
              "      --bg-color: #3B4455;\n",
              "      --fill-color: #D2E3FC;\n",
              "      --hover-bg-color: #434B5C;\n",
              "      --hover-fill-color: #FFFFFF;\n",
              "      --disabled-bg-color: #3B4455;\n",
              "      --disabled-fill-color: #666;\n",
              "  }\n",
              "\n",
              "  .colab-df-quickchart {\n",
              "    background-color: var(--bg-color);\n",
              "    border: none;\n",
              "    border-radius: 50%;\n",
              "    cursor: pointer;\n",
              "    display: none;\n",
              "    fill: var(--fill-color);\n",
              "    height: 32px;\n",
              "    padding: 0;\n",
              "    width: 32px;\n",
              "  }\n",
              "\n",
              "  .colab-df-quickchart:hover {\n",
              "    background-color: var(--hover-bg-color);\n",
              "    box-shadow: 0 1px 2px rgba(60, 64, 67, 0.3), 0 1px 3px 1px rgba(60, 64, 67, 0.15);\n",
              "    fill: var(--button-hover-fill-color);\n",
              "  }\n",
              "\n",
              "  .colab-df-quickchart-complete:disabled,\n",
              "  .colab-df-quickchart-complete:disabled:hover {\n",
              "    background-color: var(--disabled-bg-color);\n",
              "    fill: var(--disabled-fill-color);\n",
              "    box-shadow: none;\n",
              "  }\n",
              "\n",
              "  .colab-df-spinner {\n",
              "    border: 2px solid var(--fill-color);\n",
              "    border-color: transparent;\n",
              "    border-bottom-color: var(--fill-color);\n",
              "    animation:\n",
              "      spin 1s steps(1) infinite;\n",
              "  }\n",
              "\n",
              "  @keyframes spin {\n",
              "    0% {\n",
              "      border-color: transparent;\n",
              "      border-bottom-color: var(--fill-color);\n",
              "      border-left-color: var(--fill-color);\n",
              "    }\n",
              "    20% {\n",
              "      border-color: transparent;\n",
              "      border-left-color: var(--fill-color);\n",
              "      border-top-color: var(--fill-color);\n",
              "    }\n",
              "    30% {\n",
              "      border-color: transparent;\n",
              "      border-left-color: var(--fill-color);\n",
              "      border-top-color: var(--fill-color);\n",
              "      border-right-color: var(--fill-color);\n",
              "    }\n",
              "    40% {\n",
              "      border-color: transparent;\n",
              "      border-right-color: var(--fill-color);\n",
              "      border-top-color: var(--fill-color);\n",
              "    }\n",
              "    60% {\n",
              "      border-color: transparent;\n",
              "      border-right-color: var(--fill-color);\n",
              "    }\n",
              "    80% {\n",
              "      border-color: transparent;\n",
              "      border-right-color: var(--fill-color);\n",
              "      border-bottom-color: var(--fill-color);\n",
              "    }\n",
              "    90% {\n",
              "      border-color: transparent;\n",
              "      border-bottom-color: var(--fill-color);\n",
              "    }\n",
              "  }\n",
              "</style>\n",
              "\n",
              "  <script>\n",
              "    async function quickchart(key) {\n",
              "      const quickchartButtonEl =\n",
              "        document.querySelector('#' + key + ' button');\n",
              "      quickchartButtonEl.disabled = true;  // To prevent multiple clicks.\n",
              "      quickchartButtonEl.classList.add('colab-df-spinner');\n",
              "      try {\n",
              "        const charts = await google.colab.kernel.invokeFunction(\n",
              "            'suggestCharts', [key], {});\n",
              "      } catch (error) {\n",
              "        console.error('Error during call to suggestCharts:', error);\n",
              "      }\n",
              "      quickchartButtonEl.classList.remove('colab-df-spinner');\n",
              "      quickchartButtonEl.classList.add('colab-df-quickchart-complete');\n",
              "    }\n",
              "    (() => {\n",
              "      let quickchartButtonEl =\n",
              "        document.querySelector('#df-2a390ec1-9b01-4512-a2bb-0066f78fccdc button');\n",
              "      quickchartButtonEl.style.display =\n",
              "        google.colab.kernel.accessAllowed ? 'block' : 'none';\n",
              "    })();\n",
              "  </script>\n",
              "</div>\n",
              "    </div>\n",
              "  </div>\n"
            ]
          },
          "metadata": {},
          "execution_count": 14
        }
      ]
    },
    {
      "cell_type": "markdown",
      "source": [
        "We can see top company with highest job postings is Turing with 14 posted jobs, and the most posted jobs are for the location Bengaluru, Karnataka, India with 34 jobs posted for this location."
      ],
      "metadata": {
        "id": "jsaGNfhfl5un"
      }
    },
    {
      "cell_type": "code",
      "source": [
        "count = df.shape[0]\n",
        "count"
      ],
      "metadata": {
        "colab": {
          "base_uri": "https://localhost:8080/"
        },
        "id": "LOavJeL5nlvv",
        "outputId": "23da0bf6-e5a0-47d8-f9cc-f752d94c6e14"
      },
      "execution_count": null,
      "outputs": [
        {
          "output_type": "execute_result",
          "data": {
            "text/plain": [
              "145"
            ]
          },
          "metadata": {},
          "execution_count": 15
        }
      ]
    },
    {
      "cell_type": "code",
      "source": [
        "df['location'].nunique()"
      ],
      "metadata": {
        "colab": {
          "base_uri": "https://localhost:8080/"
        },
        "id": "Y5ItJihiESmU",
        "outputId": "793c2af8-e99c-4b46-ad0e-94dc18ab5315"
      },
      "execution_count": null,
      "outputs": [
        {
          "output_type": "execute_result",
          "data": {
            "text/plain": [
              "29"
            ]
          },
          "metadata": {},
          "execution_count": 16
        }
      ]
    },
    {
      "cell_type": "code",
      "source": [
        "df['location'].value_counts()"
      ],
      "metadata": {
        "colab": {
          "base_uri": "https://localhost:8080/"
        },
        "id": "rtInizTrUICE",
        "outputId": "f36ebcc9-ab95-4557-b0af-5c998b1904e6"
      },
      "execution_count": null,
      "outputs": [
        {
          "output_type": "execute_result",
          "data": {
            "text/plain": [
              "Bengaluru, Karnataka, India          34\n",
              "Hyderabad, Telangana, India          21\n",
              "Pune, Maharashtra, India             11\n",
              "Mumbai, Maharashtra, India           10\n",
              "India                                 9\n",
              "Pune/Pimpri-Chinchwad Area            6\n",
              "Gurgaon, Haryana, India               6\n",
              "Gurugram, Haryana, India              5\n",
              "Noida, Uttar Pradesh, India           5\n",
              "Delhi, Delhi, India                   5\n",
              "Bengaluru North, Karnataka, India     5\n",
              "Chennai, Tamil Nadu, India            3\n",
              "Secunderābād, Telangana, India        3\n",
              "Greater Kolkata Area                  2\n",
              "Greater Bengaluru Area                2\n",
              "Greater Hyderabad Area                2\n",
              "Bangalore Urban, Karnataka, India     2\n",
              "Greater Chennai Area                  2\n",
              "Greater Delhi Area                    2\n",
              "Delhi, India                          1\n",
              "Faridabad, Haryana, India             1\n",
              "Kota, Rajasthan, India                1\n",
              "Uttar Pradesh, India                  1\n",
              "Delhi Cantonment, Delhi, India        1\n",
              "Mumbai Metropolitan Region            1\n",
              "Chandigarh, Chandigarh, India         1\n",
              "Andhra Pradesh, India                 1\n",
              "Vadodara, Gujarat, India              1\n",
              "Kochi, Kerala, India                  1\n",
              "Name: location, dtype: int64"
            ]
          },
          "metadata": {},
          "execution_count": 17
        }
      ]
    },
    {
      "cell_type": "markdown",
      "source": [
        "We can see top locations for the job postings are Bengaluru, Hyderabad, Pune and Mumbai."
      ],
      "metadata": {
        "id": "w-S-i_oohAoi"
      }
    },
    {
      "cell_type": "code",
      "source": [
        "import seaborn as sns\n",
        "import matplotlib.pyplot as plt\n",
        "%matplotlib inline"
      ],
      "metadata": {
        "id": "w-8uqWTSe04P"
      },
      "execution_count": null,
      "outputs": []
    },
    {
      "cell_type": "code",
      "source": [
        "plt.figure(figsize=(10,6))\n",
        "df['location'].value_counts().plot.bar()\n",
        "plt.title(\"Count of Jobs by Location\")"
      ],
      "metadata": {
        "colab": {
          "base_uri": "https://localhost:8080/",
          "height": 787
        },
        "id": "GzAZ6wjWhACf",
        "outputId": "3f177e51-0952-406d-a6f5-1cd460f87edc"
      },
      "execution_count": null,
      "outputs": [
        {
          "output_type": "execute_result",
          "data": {
            "text/plain": [
              "Text(0.5, 1.0, 'Count of Jobs by Location')"
            ]
          },
          "metadata": {},
          "execution_count": 22
        },
        {
          "output_type": "display_data",
          "data": {
            "text/plain": [
              "<Figure size 1000x600 with 1 Axes>"
            ],
            "image/png": "[encoded data removed]"
          },
          "metadata": {}
        }
      ]
    }
  ]
}